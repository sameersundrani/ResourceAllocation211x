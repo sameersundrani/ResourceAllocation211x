{
  "nbformat": 4,
  "nbformat_minor": 0,
  "metadata": {
    "colab": {
      "name": "mseCode.ipynb",
      "provenance": [],
      "collapsed_sections": [
        "rrWdOLYIXu1_"
      ],
      "include_colab_link": true
    },
    "kernelspec": {
      "name": "python3",
      "display_name": "Python 3"
    },
    "language_info": {
      "name": "python"
    }
  },
  "cells": [
    {
      "cell_type": "markdown",
      "metadata": {
        "id": "view-in-github",
        "colab_type": "text"
      },
      "source": [
        "<a href=\"https://colab.research.google.com/github/sameersundrani/ResourceAllocation211x/blob/main/mseCode.ipynb\" target=\"_parent\"><img src=\"https://colab.research.google.com/assets/colab-badge.svg\" alt=\"Open In Colab\"/></a>"
      ]
    },
    {
      "cell_type": "markdown",
      "metadata": {
        "id": "99q0xFEIWe3d"
      },
      "source": [
        "# Imported Libraries & gDrive Mounting"
      ]
    },
    {
      "cell_type": "code",
      "metadata": {
        "id": "Sydz2MwQoC7Q"
      },
      "source": [
        "import numpy as np\n",
        "import matplotlib.pyplot as plt\n",
        "import random\n",
        "from google.colab import drive\n",
        "import cvxpy as cp\n",
        "import math\n",
        "from numpy import linalg as LA"
      ],
      "execution_count": null,
      "outputs": []
    },
    {
      "cell_type": "code",
      "metadata": {
        "id": "8aj_FCwhUNhO",
        "colab": {
          "base_uri": "https://localhost:8080/"
        },
        "outputId": "c58e12c7-09e0-4d27-e5d7-269f7018ba4b"
      },
      "source": [
        "drive.mount('/content/drive', force_remount=True)\n",
        "FOLDERNAME = '/content/drive/MyDrive/MSE211x_Final_Project'\n"
      ],
      "execution_count": null,
      "outputs": [
        {
          "output_type": "stream",
          "name": "stdout",
          "text": [
            "Mounted at /content/drive\n"
          ]
        }
      ]
    },
    {
      "cell_type": "code",
      "metadata": {
        "id": "cA9FT8TEzTkO"
      },
      "source": [
        "np.random.seed(15)\n",
        "k = [50, 100, 200]\n",
        "m = 10 # number of goods\n",
        "n = 10000  # number of bidders\n",
        "p = np.random.uniform(0, 1, m)\n",
        "\n",
        "A = np.random.randint(2, size=(m, n))\n",
        "b = np.ones(m)*1000\n",
        "\n",
        "pi = np.matmul(np.transpose(A), p) + np.random.normal(0, math.sqrt(0.2), n)\n",
        "X = np.zeros((n, len(k)))\n",
        "\n",
        "rev = {}\n",
        "accepted = {}\n",
        "dual = {}\n"
      ],
      "execution_count": null,
      "outputs": []
    },
    {
      "cell_type": "markdown",
      "metadata": {
        "id": "baw2Y-kpkhYB"
      },
      "source": [
        "# Question 1\n"
      ]
    },
    {
      "cell_type": "code",
      "metadata": {
        "id": "I_ZvHElmk8MD",
        "colab": {
          "base_uri": "https://localhost:8080/"
        },
        "outputId": "e3907013-3a67-4ed4-aec3-a54430375bfc"
      },
      "source": [
        "# Offline solution\n",
        "x_off = cp.Variable(n, nonneg=True)\n",
        "constraints_off = [A @ x_off <= b, x_off <= 1]\n",
        "prob_off = cp.Problem(cp.Maximize(pi.T @ x_off), constraints_off)\n",
        "prob_off.solve()\n",
        "\n",
        "y_off = constraints_off[0].dual_value\n",
        "off_rev = prob_off.value\n",
        "print(off_rev)\n",
        "print(np.sum(x_off.value))"
      ],
      "execution_count": null,
      "outputs": [
        {
          "output_type": "stream",
          "name": "stdout",
          "text": [
            "4503.271670222161\n",
            "2224.666666285453\n"
          ]
        }
      ]
    },
    {
      "cell_type": "code",
      "metadata": {
        "colab": {
          "base_uri": "https://localhost:8080/"
        },
        "id": "Qvm__31H3Ely",
        "outputId": "c388b5ed-0cd2-42f9-8018-628619056de8"
      },
      "source": [
        "for i in range(len(k)):\n",
        "  x = cp.Variable(k[i], nonneg=True)\n",
        "  constraints = [A[:,0:k[i]] @ x <= (k[i]/n)*b, x <= 1]\n",
        "  prob = cp.Problem(cp.Maximize(pi[0:k[i]].T @ x), constraints)\n",
        "  prob.solve()\n",
        "  y = constraints[0].dual_value\n",
        "  dual[i] = y\n",
        "  # X[0:k[i], i] = x.value\n",
        "  s = np.zeros(m)\n",
        "  #s = np.matmul(A[:, 0:k[i]], x)\n",
        "  for j in range(k[i]+1, n):\n",
        "    if (s + A[:, j] <= b).all() and (pi[j] > np.dot(A[:, j], y)):\n",
        "      X[j, i] = 1\n",
        "      s = s + (A[:, j] * X[j, i])\n",
        "    else:\n",
        "      X[j, i] = 0\n",
        "  rev[k[i]] = np.dot(pi, X[:, i])\n",
        "  accepted[k[i]] = sum(X[:, i])\n",
        "  \n",
        "print(rev)\n",
        "print(accepted)"
      ],
      "execution_count": null,
      "outputs": [
        {
          "output_type": "stream",
          "name": "stdout",
          "text": [
            "{50: 3328.150054740353, 100: 3817.176986240099, 200: 3988.388114348342}\n",
            "{50: 1735.0, 100: 1935.0, 200: 1965.0}\n"
          ]
        }
      ]
    },
    {
      "cell_type": "code",
      "metadata": {
        "id": "T3-VyJP4cQ0S"
      },
      "source": [
        "total50 = np.multiply(pi, X[:, 0])\n",
        "total100 = np.multiply(pi, X[:, 1])\n",
        "total200 = np.multiply(pi, X[:, 2])\n",
        "\n"
      ],
      "execution_count": null,
      "outputs": []
    },
    {
      "cell_type": "code",
      "metadata": {
        "colab": {
          "base_uri": "https://localhost:8080/"
        },
        "id": "vtY4TusET_wO",
        "outputId": "52bdf2f9-486a-4503-b4c8-15abbbd03b4e"
      },
      "source": [
        "for val in rev.values():\n",
        "  print(val/off_rev)\n"
      ],
      "execution_count": null,
      "outputs": [
        {
          "output_type": "stream",
          "name": "stdout",
          "text": [
            "0.7390515825966512\n",
            "0.8476452823135551\n",
            "0.8856645582191983\n"
          ]
        }
      ]
    },
    {
      "cell_type": "code",
      "metadata": {
        "colab": {
          "base_uri": "https://localhost:8080/"
        },
        "id": "x_jUj9Tq3-rm",
        "outputId": "08e64a63-9e2b-40c6-d013-a3bc27cf5fb8"
      },
      "source": [
        "# Small k allows for a shorter wait time before accepting bids. Since we need to wait after k bidders to get the shadow price, a smaller k will allow us to make decisions faster.\n",
        "# Larger k leads to higher revenue and closer to the offline algorithm. \n",
        "\n",
        "print(LA.norm(p - dual[0]))\n",
        "print(LA.norm(p - dual[1]))\n",
        "print(LA.norm(p - dual[2]))\n",
        "\n",
        "\n"
      ],
      "execution_count": null,
      "outputs": [
        {
          "output_type": "stream",
          "name": "stdout",
          "text": [
            "0.7708497347222916\n",
            "0.3904725612050795\n",
            "0.31976513379216426\n"
          ]
        }
      ]
    },
    {
      "cell_type": "markdown",
      "metadata": {
        "id": "m8nMimzfxXBd"
      },
      "source": [
        "# Question 2"
      ]
    },
    {
      "cell_type": "code",
      "metadata": {
        "id": "N34w-sOMWyCv"
      },
      "source": [
        "def solve_dual(k, pi, n, b, A):\n",
        "    x = cp.Variable(k, nonneg=True)\n",
        "    constraints = [A[:,0:k] @ x <= (k/n)*b, x <= 1]\n",
        "    prob = cp.Problem(cp.Maximize(pi[0:k].T @ x), constraints)\n",
        "    prob.solve()\n",
        "    return constraints[0].dual_value\n",
        "\n",
        "def compute_opt_diff(pi, X, n, k, OPT):\n",
        "  return np.dot(pi[0:k], X[0:k]) - (k/n)*OPT"
      ],
      "execution_count": null,
      "outputs": []
    },
    {
      "cell_type": "code",
      "metadata": {
        "id": "x_48TU_Kknju",
        "colab": {
          "base_uri": "https://localhost:8080/"
        },
        "outputId": "30eaab67-e83b-43a3-cd02-b349f0d149d0"
      },
      "source": [
        "X = np.zeros(n)\n",
        "kk = [50, 100, 200, 400, 800]\n",
        "duals = {}\n",
        "y = np.zeros(m)\n",
        "opt_diff_SLPM = np.zeros(n)\n",
        "duals[i] = y\n",
        "s = np.zeros(m)\n",
        "for i in range(50, n):\n",
        "  if i in kk:\n",
        "    y = solve_dual(i, pi, n, b, A)\n",
        "    duals[i] = y\n",
        "  if (s + A[:, i] <= b).all() and (pi[i] > np.dot(A[:, i], y)):\n",
        "      X[i] = 1\n",
        "      s = s + (A[:, i] * X[i])\n",
        "  else:\n",
        "      X[i] = 0\n",
        "  opt_diff_SLPM[i] = compute_opt_diff(pi, X, n, i, OPT=4503.271670222161)\n",
        "print(np.dot(pi, X))\n",
        "print(np.sum(X))\n"
      ],
      "execution_count": null,
      "outputs": [
        {
          "output_type": "stream",
          "name": "stdout",
          "text": [
            "4132.061770675931\n",
            "2109.0\n"
          ]
        }
      ]
    },
    {
      "cell_type": "code",
      "metadata": {
        "colab": {
          "base_uri": "https://localhost:8080/",
          "height": 312
        },
        "id": "7mjETeRqmcZN",
        "outputId": "2d1ae487-0b78-4d29-d768-33024daa46ea"
      },
      "source": [
        "x = np.array(range(0, 10000))\n",
        "totaldy = np.multiply(X, pi)\n",
        "\n",
        "def calc_rev(rev):\n",
        "  y = np.zeros(10000)\n",
        "  y[0] = rev[0]\n",
        "  for i in range(1, y.size):\n",
        "    y[i] = y[i-1] + rev[i]  \n",
        "  return y\n",
        "\n",
        "y50 = calc_rev(total50)\n",
        "y100 = calc_rev(total100)\n",
        "y200 = calc_rev(total200)\n",
        "ydy = calc_rev(totaldy)\n",
        "\n",
        "\n",
        "plt.plot(x, y50, label = \"k=50\")\n",
        "plt.plot(x, y100, label = \"k=100\")\n",
        "plt.plot(x, y200, label = \"k=200\")\n",
        "plt.plot(x, ydy, label = \"Dynamic Update\")\n",
        "\n",
        "\n",
        "plt.xlabel(\"Iteration #\")\n",
        "plt.ylabel(\"Generated Revenue\")\n",
        "plt.title(\"Generated Revenue over Time\")\n",
        "plt.legend()"
      ],
      "execution_count": null,
      "outputs": [
        {
          "output_type": "execute_result",
          "data": {
            "text/plain": [
              "<matplotlib.legend.Legend at 0x7f0cf25ec5d0>"
            ]
          },
          "metadata": {},
          "execution_count": 18
        },
        {
          "output_type": "display_data",
          "data": {
            "image/png": "[encoded data removed]",
            "text/plain": [
              "<Figure size 432x288 with 1 Axes>"
            ]
          },
          "metadata": {
            "needs_background": "light"
          }
        }
      ]
    },
    {
      "cell_type": "markdown",
      "metadata": {
        "id": "zUxuT4Stxgp4"
      },
      "source": [
        "# Question 3: Action-history-dependent Learning Algorithm"
      ]
    },
    {
      "cell_type": "code",
      "metadata": {
        "id": "bzVUjO7008ug"
      },
      "source": [
        "def solve_dual_AHDL(k, pi, n, b, A):\n",
        "    x = cp.Variable(k, nonneg=True)\n",
        "    constraints = [A[:,0:k] @ x <= (k/(n-k))*b, x <= 1] #updated for ADHL\n",
        "    prob = cp.Problem(cp.Maximize(pi[0:k].T @ x), constraints)\n",
        "    prob.solve()\n",
        "    return constraints[0].dual_value\n",
        "\n",
        "def AHDL(pi, A, b, p, OPT):\n",
        "  m = A.shape[0]\n",
        "  n = A.shape[1]\n",
        "  opt_diff = np.zeros(n) #measurement of performance over time (note: opt_diff[0] will always be zero since we don't start the update until k = 2)\n",
        "  X = np.zeros(n) #decision vector \n",
        "  y_prev = np.zeros(m) #initial dual price = 0 (see ref[6] for justification here)\n",
        "  for i in range(1, n):\n",
        "    if (b - A[:, i] >= np.zeros(m)).all() and (pi[i] > np.dot(A[:, i], y_prev)): #we have resources for this bid and are going to make money\n",
        "      X[i] = 1\n",
        "      b = b - A[:, i] #update b for new resources\n",
        "    opt_diff[i] = compute_opt_diff(pi, X, n, i, OPT)\n",
        "    y_prev = solve_dual_AHDL(i, pi, n, b, A) #get prev dual solution for next iteration\n",
        "\n",
        "  return X, opt_diff"
      ],
      "execution_count": null,
      "outputs": []
    },
    {
      "cell_type": "code",
      "metadata": {
        "id": "GR26imqpxij5"
      },
      "source": [
        "OPT = 4503.271670222161 #computed above\n",
        "inventory = b.copy()\n",
        "\n",
        "X_ahdl, opt_diff = AHDL(pi=pi, A=A, b=inventory, p=p, OPT=4503.271670222161)"
      ],
      "execution_count": null,
      "outputs": []
    },
    {
      "cell_type": "code",
      "metadata": {
        "colab": {
          "base_uri": "https://localhost:8080/"
        },
        "id": "VoiYUwdTAAQ0",
        "outputId": "243e78a0-ac1d-4c4e-b325-4e2a51a6a03a"
      },
      "source": [
        "print(\"Num Accepted Bids = \", np.sum(X_ahdl))\n",
        "print(\"Total Revenue = \", np.dot(pi, X_ahdl))"
      ],
      "execution_count": null,
      "outputs": [
        {
          "output_type": "stream",
          "name": "stdout",
          "text": [
            "Num Accepted Bids =  2227.0\n",
            "Total Revenue =  4476.241301729757\n"
          ]
        }
      ]
    },
    {
      "cell_type": "code",
      "metadata": {
        "colab": {
          "base_uri": "https://localhost:8080/",
          "height": 310
        },
        "id": "JQ-mesxnAQzN",
        "outputId": "695f2c5a-3477-45f4-a44a-b0b106e0cd02"
      },
      "source": [
        "plt.plot(range(len(X)), opt_diff, label='AHDL')\n",
        "plt.plot(range(len(X)), opt_diff_SLPM, label='SLPM w/ Updates')\n",
        "plt.title('Algorithm Performance over Time')\n",
        "plt.xlabel('Time Step (Bidder)')\n",
        "plt.ylabel('Comparison to Optimal')\n",
        "plt.legend()"
      ],
      "execution_count": null,
      "outputs": [
        {
          "output_type": "execute_result",
          "data": {
            "text/plain": [
              "<matplotlib.legend.Legend at 0x7f4aac0e4c10>"
            ]
          },
          "metadata": {},
          "execution_count": 20
        },
        {
          "output_type": "display_data",
          "data": {
            "image/png": "[encoded data removed]",
            "text/plain": [
              "<Figure size 432x288 with 1 Axes>"
            ]
          },
          "metadata": {
            "needs_background": "light"
          }
        }
      ]
    },
    {
      "cell_type": "markdown",
      "metadata": {
        "id": "rrWdOLYIXu1_"
      },
      "source": [
        "# Question 4"
      ]
    },
    {
      "cell_type": "markdown",
      "metadata": {
        "id": "_6VM9FoNX7Aj"
      },
      "source": [
        "(Noah rough notes)\n",
        "\n",
        "The dual of (1) is given by\n",
        "$$minimize~~\\sum_{i=1}^m b_iy_i + \\sum_{j=1}^n p_j$$\n",
        "$$s.t.~~ \\sum_{i=1}^m a_{ij}y_i + p_j \\geq \\pi_j, ~\\forall ~j=1,...,n$$\n",
        "$$y_i, p_j \\geq 0 ~ \\forall i=1,...,m ~j=1,...,n$$\n",
        "Where decision variables are\n",
        "$$\\textbf{y} = (P_1,...,p_m)^T~~and~~\\textbf{p} = (y_1,...,y_n)^T$$\n",
        "Plugging the constraints into the objective function of the dual we get \n",
        "$$min~~\\sum_{i=1}^m b_iy_i + \\sum_{j=1}^n (\\pi_j - \\sum_{i=1}^m a_{ij}y_i)^+$$\n",
        "$$s.t.~~~ y_i \\geq 0, ~\\forall ~i=1,...,m$$\n",
        "Let $\\textbf{d} = \\textbf{b}/n$. Dividing through by n we get\n",
        "$$min~~\\sum_{i=1}^m d_iy_i + \\frac{1}{n}\\sum_{j=1}^n (\\pi_j - \\sum_{i=1}^m a_{ij}y_i)^+$$\n",
        "$$s.t.~~~ y_i \\geq 0, ~\\forall ~i=1,...,m$$\n",
        "Define $f_n(y)$ as the objective function of the above problem and define $f(y)$ as the objective function of (3). As this dual program is an n-sample approximation of the program (3)\n",
        "$$\\implies \\mathbb{E}f_n(y) = f(y)$$"
      ]
    },
    {
      "cell_type": "markdown",
      "metadata": {
        "id": "BO--cYbwHzVz"
      },
      "source": [
        "# Question 5"
      ]
    },
    {
      "cell_type": "code",
      "metadata": {
        "id": "_OwVvNv-IE16"
      },
      "source": [
        "def get_loss(y, pi, A, b):\n",
        "  return np.dot(b/n, y) + max((pi.mean() - np.dot(A.mean(axis=1), y)), 0)\n",
        "\n",
        "def get_gradient(y, pi, A, b):\n",
        "  n = 10000\n",
        "  d = b / n\n",
        "  ind = np.zeros(A.shape[0])\n",
        "  if (pi > (A.T @ y)):\n",
        "    ind = ind + np.ones(A.shape[0])\n",
        "  aInd = ind*A\n",
        "  grad_approx = d - aInd\n",
        "  return grad_approx\n",
        "\n",
        "def sample_batch(y, pi, A, batch_size=1):\n",
        "  idx = np.random.choice(A.shape[1], size=batch_size, replace=False)\n",
        "  return pi[idx], A[:, idx]\n",
        "\n",
        "def sgd(pi, A, b, p, epochs=10000, eps = 0.0000001):\n",
        "  loss = []\n",
        "  grad = 0\n",
        "  y_prev = np.zeros(A.shape[0])\n",
        "  y = np.zeros(A.shape[0])\n",
        "  loss_prev = 0 #set arbitrarily\n",
        "  for k in range(epochs):\n",
        "    \n",
        "    # set lr\n",
        "    lr = 1 / np.sqrt(k+1)\n",
        "\n",
        "    # sample batch (size = 1)\n",
        "    pi_k = pi[k]\n",
        "    A_k = A[:, k]\n",
        "\n",
        "    # get grad from random batch\n",
        "    grad = get_gradient(y_prev, pi_k, A_k, b)\n",
        "\n",
        "    # update X with this grad\n",
        "    y = y_prev - grad*lr\n",
        "    \n",
        "    # exit if we converge early\n",
        "    loss_k = get_loss(y, pi, A, b)\n",
        "    diff = np.abs(loss_k - loss_prev)\n",
        "    loss.append(loss_k)\n",
        "\n",
        "    y_prev = y\n",
        "    loss_prev = loss_k\n",
        "\n",
        "    # print to debug\n",
        "    if (k%1000 == 0):\n",
        "      print(f'Current Loss = %f' %(loss_k))\n",
        "  \n",
        "  return y, loss\n",
        "\n",
        "\n",
        "def get_x(y, pi, A, b):\n",
        "  n = A.shape[1]\n",
        "  X = np.zeros(n)\n",
        "  for i in range(n):\n",
        "    if (b - A[:, i] >= np.zeros(m)).all() and (pi[i] > np.dot(A[:, i], y)): #we have resources for this bid and are going to make money\n",
        "      X[i] = 1\n",
        "      b = b - A[:, i] #update b for new resources\n",
        "  opt_rev = np.dot(pi, X)\n",
        "  return X, opt_rev"
      ],
      "execution_count": null,
      "outputs": []
    },
    {
      "cell_type": "code",
      "metadata": {
        "colab": {
          "base_uri": "https://localhost:8080/"
        },
        "id": "3EFDfUIlHSRC",
        "outputId": "e70e99f3-59e2-45da-fb10-742bc922a522"
      },
      "source": [
        "p_sgd, loss_list_sgd = sgd(pi, A, b, p)"
      ],
      "execution_count": null,
      "outputs": [
        {
          "output_type": "stream",
          "name": "stdout",
          "text": [
            "Current Loss = 1.605008\n",
            "Current Loss = 0.385027\n",
            "Current Loss = 0.383358\n",
            "Current Loss = 0.392355\n",
            "Current Loss = 0.368302\n",
            "Current Loss = 0.387888\n",
            "Current Loss = 0.395591\n",
            "Current Loss = 0.395280\n",
            "Current Loss = 0.399854\n",
            "Current Loss = 0.382656\n"
          ]
        }
      ]
    },
    {
      "cell_type": "code",
      "metadata": {
        "colab": {
          "base_uri": "https://localhost:8080/",
          "height": 310
        },
        "id": "sI6VNq30GjvK",
        "outputId": "ec90eb6a-f6a9-477f-b2c7-325324cb8080"
      },
      "source": [
        "plt.plot(loss_list_sgd)\n",
        "plt.title('SGD Dual Price Loss')\n",
        "plt.xlabel('Iteration (k)')\n",
        "plt.ylabel('Loss')"
      ],
      "execution_count": null,
      "outputs": [
        {
          "output_type": "execute_result",
          "data": {
            "text/plain": [
              "Text(0, 0.5, 'Loss')"
            ]
          },
          "metadata": {},
          "execution_count": 19
        },
        {
          "output_type": "display_data",
          "data": {
            "image/png": "[encoded data removed]",
            "text/plain": [
              "<Figure size 432x288 with 1 Axes>"
            ]
          },
          "metadata": {
            "needs_background": "light"
          }
        }
      ]
    },
    {
      "cell_type": "code",
      "metadata": {
        "colab": {
          "base_uri": "https://localhost:8080/"
        },
        "id": "rK4itUiRJXhS",
        "outputId": "d85312da-3cc9-4477-94bd-510e58f31caa"
      },
      "source": [
        "print(f'Final Norm Difference (SGD) = %f' %(np.linalg.norm(p_sgd - p)))"
      ],
      "execution_count": null,
      "outputs": [
        {
          "output_type": "stream",
          "name": "stdout",
          "text": [
            "Final Norm Difference (SGD) = 0.210521\n"
          ]
        }
      ]
    },
    {
      "cell_type": "code",
      "metadata": {
        "id": "RnFlH_cJhozJ"
      },
      "source": [
        "X, opt_rev_sgd = get_x(p_sgd, pi, A, b)"
      ],
      "execution_count": null,
      "outputs": []
    },
    {
      "cell_type": "code",
      "metadata": {
        "colab": {
          "base_uri": "https://localhost:8080/"
        },
        "id": "a9LgM_-NkDfO",
        "outputId": "debb5070-7eac-459c-ff20-0474bd9af0e6"
      },
      "source": [
        "print(f'Accepted Number of Bids (SGD) = %f' %(np.sum(X)))\n",
        "print(f'Total Revenue (SGD) = %f' %(opt_rev_sgd))"
      ],
      "execution_count": null,
      "outputs": [
        {
          "output_type": "stream",
          "name": "stdout",
          "text": [
            "Accepted Number of Bids (SGD) = 2108.000000\n",
            "Total Revenue (SGD) = 4180.687178\n"
          ]
        }
      ]
    }
  ]
}